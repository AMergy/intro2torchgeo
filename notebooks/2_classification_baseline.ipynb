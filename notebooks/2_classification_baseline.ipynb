{
 "cells": [
  {
   "attachments": {},
   "cell_type": "markdown",
   "metadata": {},
   "source": [
    "This notebook is using Torchgeo's tutorials. For more information, you can find the tutorials on their [website](https://torchgeo.readthedocs.io/en/stable/tutorials/getting_started.html). \n",
    "\n",
    "To evaluate a model, you can directly refer to the `Evaluation` section."
   ]
  },
  {
   "attachments": {},
   "cell_type": "markdown",
   "metadata": {},
   "source": [
    "# Setup"
   ]
  },
  {
   "cell_type": "code",
   "execution_count": 1,
   "metadata": {},
   "outputs": [
    {
     "name": "stderr",
     "output_type": "stream",
     "text": [
      "/home/anne/miniconda3/envs/torchgeo/lib/python3.9/site-packages/tqdm/auto.py:22: TqdmWarning: IProgress not found. Please update jupyter and ipywidgets. See https://ipywidgets.readthedocs.io/en/stable/user_install.html\n",
      "  from .autonotebook import tqdm as notebook_tqdm\n"
     ]
    }
   ],
   "source": [
    "import os\n",
    "import tempfile\n",
    "\n",
    "import torch\n",
    "import torch.nn as nn\n",
    "import torch.optim as optim\n",
    "from torch.utils.data import DataLoader\n",
    "\n",
    "from torchgeo.datasets import NAIP, ChesapeakeDE\n",
    "from torchgeo.datasets.utils import download_url, stack_samples\n",
    "from torchgeo.models import resnet50 as resnet50_torchgeo\n",
    "from torchgeo.samplers import RandomGeoSampler"
   ]
  },
  {
   "attachments": {},
   "cell_type": "markdown",
   "metadata": {},
   "source": [
    "# Data"
   ]
  },
  {
   "attachments": {},
   "cell_type": "markdown",
   "metadata": {},
   "source": [
    "Let's create the splits for the training. For more information about this cell, refer to `1_data_exploration.ipynb` tutorial. "
   ]
  },
  {
   "cell_type": "code",
   "execution_count": 2,
   "metadata": {},
   "outputs": [],
   "source": [
    "data_root = tempfile.gettempdir()\n",
    "naip_url = (\n",
    "    \"https://naipeuwest.blob.core.windows.net/naip/v002/de/2018/de_060cm_2018/38075/\"\n",
    ")\n",
    "TILES = [\n",
    "    \"m_3807511_ne_18_060_20181104.tif\",\n",
    "    \"m_3807511_se_18_060_20181104.tif\",\n",
    "    \"m_3807512_nw_18_060_20180815.tif\"]\n",
    "cache = True"
   ]
  },
  {
   "cell_type": "code",
   "execution_count": 4,
   "metadata": {},
   "outputs": [
    {
     "name": "stdout",
     "output_type": "stream",
     "text": [
      "Using downloaded and verified file: /tmp/naip_train/m_3807511_ne_18_060_20181104.tif\n",
      "Downloading https://cicwebresources.blob.core.windows.net/chesapeakebaylandcover/DE/_DE_STATEWIDE.zip to /tmp/chesapeake/_DE_STATEWIDE.zip\n"
     ]
    },
    {
     "name": "stderr",
     "output_type": "stream",
     "text": [
      "100%|██████████| 287350495/287350495 [06:22<00:00, 750520.28it/s] \n"
     ]
    }
   ],
   "source": [
    "# Training set\n",
    "naip_root = os.path.join(data_root, \"naip_train\")\n",
    "download_url(naip_url + TILES[0], naip_root)\n",
    "\n",
    "chesapeake_root = os.path.join(data_root, \"chesapeake\")\n",
    "chesapeake = ChesapeakeDE(chesapeake_root, download=True)\n",
    "\n",
    "train_chesapeake = ChesapeakeDE(chesapeake_root, cache=cache)\n",
    "train_naip = NAIP(naip_root, crs=chesapeake.crs, \n",
    "                  res=chesapeake.res, cache=cache)\n",
    "\n",
    "train_dataset = train_chesapeake & train_naip\n",
    "# train_sampler = GridGeoSampler(train_dataset, size=1000, stride=500)\n",
    "train_sampler = RandomGeoSampler(train_dataset, size=256, length=10000)\n",
    "\n",
    "train_dataloader = DataLoader(\n",
    "    train_dataset, batch_size=8, sampler=train_sampler, \n",
    "    collate_fn=stack_samples, \n",
    ")"
   ]
  },
  {
   "cell_type": "code",
   "execution_count": 5,
   "metadata": {},
   "outputs": [
    {
     "name": "stdout",
     "output_type": "stream",
     "text": [
      "Using downloaded and verified file: /tmp/naip_val/m_3807511_se_18_060_20181104.tif\n"
     ]
    }
   ],
   "source": [
    "# Validation set\n",
    "naip_root = os.path.join(data_root, \"naip_val\")\n",
    "download_url(naip_url + TILES[1], naip_root)\n",
    "\n",
    "val_chesapeake = ChesapeakeDE(chesapeake_root, cache=cache)\n",
    "val_naip = NAIP(naip_root, crs=chesapeake.crs, \n",
    "                  res=chesapeake.res, cache=cache)\n",
    "\n",
    "val_dataset = val_chesapeake & val_naip\n",
    "val_sampler = RandomGeoSampler(val_dataset, size=256, length=10000)\n",
    "\n",
    "val_dataloader = DataLoader(\n",
    "    val_dataset, batch_size=8, sampler=val_sampler, \n",
    "    collate_fn=stack_samples, shuffle=False,\n",
    ")"
   ]
  },
  {
   "attachments": {},
   "cell_type": "markdown",
   "metadata": {},
   "source": [
    "# Model"
   ]
  },
  {
   "cell_type": "code",
   "execution_count": 6,
   "metadata": {},
   "outputs": [],
   "source": [
    "# parameters\n",
    "num_epochs = 10\n",
    "batch_size = 8\n",
    "learning_rate = 0.001"
   ]
  },
  {
   "cell_type": "code",
   "execution_count": 7,
   "metadata": {},
   "outputs": [],
   "source": [
    "from torchgeo.models import FarSeg\n",
    "\n",
    "# Load the pre-trained ResNet50 model\n",
    "# Modify the last layer; there are 12 classes + 0 standing for no_data\n",
    "model = FarSeg(backbone='resnet50', classes=13, backbone_pretrained=True)"
   ]
  },
  {
   "attachments": {},
   "cell_type": "markdown",
   "metadata": {},
   "source": [
    "In the code below, we first freeze all the layers except the first and last by setting `requires_grad` to False. Then, we modify the first layer to accept a 4-band image. Finally, we define the loss function and optimizer to only update the parameters that have `requires_grad set to True`. This is achieved using `filter` to select only the trainable parameters."
   ]
  },
  {
   "cell_type": "code",
   "execution_count": 8,
   "metadata": {},
   "outputs": [],
   "source": [
    "# Freeze all layers except the first and last\n",
    "for name, param in model.named_parameters():\n",
    "    if not ('conv1' in name or 'fc' in name):\n",
    "        param.requires_grad = False"
   ]
  },
  {
   "cell_type": "code",
   "execution_count": 9,
   "metadata": {},
   "outputs": [],
   "source": [
    "# Modify the first layer to accept a 4-band image\n",
    "model.backbone.conv1 = nn.Conv2d(4, 64, kernel_size=7, stride=2, padding=(3, 3), bias=False)"
   ]
  },
  {
   "cell_type": "code",
   "execution_count": 10,
   "metadata": {},
   "outputs": [],
   "source": [
    "# Define the loss function and optimizer\n",
    "criterion = nn.CrossEntropyLoss()\n",
    "optimizer = optim.Adam(filter(lambda p: p.requires_grad, model.parameters()), lr=learning_rate)"
   ]
  },
  {
   "attachments": {},
   "cell_type": "markdown",
   "metadata": {},
   "source": [
    "# Re-train resnet 50 weights"
   ]
  },
  {
   "cell_type": "code",
   "execution_count": 12,
   "metadata": {},
   "outputs": [
    {
     "name": "stderr",
     "output_type": "stream",
     "text": [
      "  0%|          | 0/10 [00:00<?, ?it/s]"
     ]
    },
    {
     "name": "stdout",
     "output_type": "stream",
     "text": [
      "Epoch 0 - Train Loss: 1.8597\n"
     ]
    },
    {
     "name": "stderr",
     "output_type": "stream",
     "text": [
      " 10%|█         | 1/10 [1:26:34<12:59:09, 5194.41s/it]"
     ]
    },
    {
     "name": "stdout",
     "output_type": "stream",
     "text": [
      "Validation Accuracy: 26963242.43%\n",
      "Epoch 1 - Train Loss: 1.6553\n"
     ]
    },
    {
     "name": "stderr",
     "output_type": "stream",
     "text": [
      " 20%|██        | 2/10 [2:55:03<11:41:34, 5261.79s/it]"
     ]
    },
    {
     "name": "stdout",
     "output_type": "stream",
     "text": [
      "Validation Accuracy: 27833313.72%\n",
      "Epoch 2 - Train Loss: 1.6314\n"
     ]
    },
    {
     "name": "stderr",
     "output_type": "stream",
     "text": [
      " 30%|███       | 3/10 [4:21:49<10:10:53, 5236.26s/it]"
     ]
    },
    {
     "name": "stdout",
     "output_type": "stream",
     "text": [
      "Validation Accuracy: 27014443.73%\n",
      "Epoch 3 - Train Loss: 1.5880\n"
     ]
    },
    {
     "name": "stderr",
     "output_type": "stream",
     "text": [
      " 40%|████      | 4/10 [5:47:45<8:40:27, 5204.55s/it] "
     ]
    },
    {
     "name": "stdout",
     "output_type": "stream",
     "text": [
      "Validation Accuracy: 26168970.60%\n",
      "Epoch 4 - Train Loss: 1.7663\n"
     ]
    },
    {
     "name": "stderr",
     "output_type": "stream",
     "text": [
      " 50%|█████     | 5/10 [7:12:55<7:10:52, 5170.55s/it]"
     ]
    },
    {
     "name": "stdout",
     "output_type": "stream",
     "text": [
      "Validation Accuracy: 27271754.02%\n",
      "Epoch 5 - Train Loss: 1.7553\n"
     ]
    },
    {
     "name": "stderr",
     "output_type": "stream",
     "text": [
      " 60%|██████    | 6/10 [8:37:11<5:42:05, 5131.47s/it]"
     ]
    },
    {
     "name": "stdout",
     "output_type": "stream",
     "text": [
      "Validation Accuracy: 26465652.95%\n",
      "Epoch 6 - Train Loss: 1.4781\n"
     ]
    },
    {
     "name": "stderr",
     "output_type": "stream",
     "text": [
      " 70%|███████   | 7/10 [10:01:31<4:15:25, 5108.35s/it]"
     ]
    },
    {
     "name": "stdout",
     "output_type": "stream",
     "text": [
      "Validation Accuracy: 26647050.64%\n",
      "Epoch 7 - Train Loss: 1.6379\n"
     ]
    },
    {
     "name": "stderr",
     "output_type": "stream",
     "text": [
      " 80%|████████  | 8/10 [11:25:11<2:49:20, 5080.13s/it]"
     ]
    },
    {
     "name": "stdout",
     "output_type": "stream",
     "text": [
      "Validation Accuracy: 27517238.86%\n",
      "Epoch 8 - Train Loss: 1.6162\n"
     ]
    },
    {
     "name": "stderr",
     "output_type": "stream",
     "text": [
      " 90%|█████████ | 9/10 [12:48:50<1:24:20, 5061.00s/it]"
     ]
    },
    {
     "name": "stdout",
     "output_type": "stream",
     "text": [
      "Validation Accuracy: 27153539.46%\n",
      "Epoch 9 - Train Loss: 1.4646\n"
     ]
    },
    {
     "name": "stderr",
     "output_type": "stream",
     "text": [
      "100%|██████████| 10/10 [14:13:49<00:00, 5122.93s/it] "
     ]
    },
    {
     "name": "stdout",
     "output_type": "stream",
     "text": [
      "Validation Accuracy: 26814570.27%\n"
     ]
    },
    {
     "name": "stderr",
     "output_type": "stream",
     "text": [
      "\n"
     ]
    }
   ],
   "source": [
    "from tqdm import tqdm\n",
    "\n",
    "# Train the model\n",
    "for epoch in tqdm(range(10)):\n",
    "    model.train()\n",
    "    for i, sample in enumerate(train_dataloader):\n",
    "        inputs = sample[\"image\"].float()\n",
    "        labels = sample[\"mask\"]\n",
    "        # labels = torch.nn.functional.one_hot(sample[\"mask\"], num_classes=13).float()\n",
    "        # labels = labels.squeeze(dim=1).permute(0, 3, 1, 2)\n",
    "\n",
    "        optimizer.zero_grad()\n",
    "        outputs = model(inputs)\n",
    "        \n",
    "        loss = criterion(outputs.view(outputs.shape[0],\n",
    "                                      outputs.shape[1],-1), \n",
    "                         labels.view(labels.shape[0],-1), \n",
    "                         )\n",
    "        loss.backward()\n",
    "        optimizer.step()\n",
    "    print(\"Epoch {} - Train Loss: {:.4f}\".format(epoch, loss.item()))\n",
    "    path = os.path.join(\"res\",'tl-weights_{}_epochs.pt'.format(epoch))\n",
    "    torch.save(model.state_dict(), path)\n",
    "\n",
    "    # Evaluate on validation set\n",
    "    model.eval()\n",
    "    correct = 0\n",
    "    total = 0\n",
    "    with torch.no_grad():\n",
    "        for sample in val_dataloader:\n",
    "            inputs = sample[\"image\"].float()\n",
    "            labels = sample[\"mask\"]\n",
    "            outputs = model(inputs)\n",
    "            _, predicted = torch.max(outputs.data, 1)\n",
    "            total += labels.size(0)\n",
    "            correct += (predicted == labels).sum().item()\n",
    "    print(\"Validation Accuracy: {:.2f}%\".format(100 * correct / total))"
   ]
  },
  {
   "attachments": {},
   "cell_type": "markdown",
   "metadata": {},
   "source": [
    "# Evaluate on test set"
   ]
  },
  {
   "cell_type": "code",
   "execution_count": 11,
   "metadata": {},
   "outputs": [],
   "source": [
    "import torch\n",
    "\n",
    "# Load the model architecture\n",
    "from torchgeo.models import FarSeg"
   ]
  },
  {
   "cell_type": "code",
   "execution_count": 12,
   "metadata": {},
   "outputs": [
    {
     "name": "stdout",
     "output_type": "stream",
     "text": [
      "Downloading https://naipeuwest.blob.core.windows.net/naip/v002/de/2018/de_060cm_2018/38075/m_3807512_nw_18_060_20180815.tif to /tmp/naip_test/m_3807512_nw_18_060_20180815.tif\n"
     ]
    },
    {
     "name": "stderr",
     "output_type": "stream",
     "text": [
      "100%|██████████| 489865657/489865657 [01:27<00:00, 5571523.95it/s]\n"
     ]
    }
   ],
   "source": [
    "# Validation set\n",
    "naip_root = os.path.join(data_root, \"naip_test\")\n",
    "download_url(naip_url + TILES[2], naip_root)\n",
    "\n",
    "test_chesapeake = ChesapeakeDE(chesapeake_root, cache=cache)\n",
    "test_naip = NAIP(naip_root, crs=chesapeake.crs, \n",
    "                  res=chesapeake.res, cache=cache)\n",
    "\n",
    "test_dataset = test_chesapeake & test_naip\n",
    "test_sampler = RandomGeoSampler(test_dataset, size=256, length=1000)\n",
    "\n",
    "test_dataloader = DataLoader(\n",
    "    test_dataset, batch_size=8, sampler=test_sampler, \n",
    "    collate_fn=stack_samples, shuffle=False,\n",
    ")"
   ]
  },
  {
   "cell_type": "code",
   "execution_count": 13,
   "metadata": {},
   "outputs": [],
   "source": [
    "# set the backbone_pretrained argument to False when initializing the model architecture, so that the weights you load\n",
    "# are not overwritten by the pre-trained weights.\n",
    "model = FarSeg(backbone='resnet50', classes=13, backbone_pretrained=False)\n",
    "model.backbone.conv1 = nn.Conv2d(4, 64, kernel_size=7, stride=2,\n",
    "                                 padding=(3, 3), bias=False)"
   ]
  },
  {
   "cell_type": "code",
   "execution_count": 14,
   "metadata": {},
   "outputs": [
    {
     "data": {
      "text/plain": [
       "<All keys matched successfully>"
      ]
     },
     "execution_count": 14,
     "metadata": {},
     "output_type": "execute_result"
    }
   ],
   "source": [
    "# Load the model weights\n",
    "weights_file = \"res/tl-weights_9_epochs.pt\"\n",
    "model.load_state_dict(torch.load(weights_file))"
   ]
  },
  {
   "cell_type": "code",
   "execution_count": 15,
   "metadata": {},
   "outputs": [
    {
     "name": "stdout",
     "output_type": "stream",
     "text": [
      "Test Loss: 1595.2490\n",
      "Test Accuracy: 26273584.70%\n"
     ]
    }
   ],
   "source": [
    "# Set the model to evaluation mode\n",
    "model.eval()\n",
    "\n",
    "# Define the loss function\n",
    "criterion = nn.CrossEntropyLoss()\n",
    "\n",
    "# Evaluate on test set\n",
    "test_loss = 0.0\n",
    "correct = 0\n",
    "total = 0\n",
    "with torch.no_grad():\n",
    "    for sample in test_dataloader:\n",
    "        inputs = sample[\"image\"].float()\n",
    "        labels = sample[\"mask\"]\n",
    "        outputs = model(inputs)\n",
    "        loss = criterion(outputs.view(outputs.shape[0], outputs.shape[1], -1), labels.view(labels.shape[0], -1))\n",
    "        test_loss += loss.item() * inputs.size(0)\n",
    "        _, predicted = torch.max(outputs.data, 1)\n",
    "        total += labels.size(0)\n",
    "        correct += (predicted == labels).sum().item()\n",
    "\n",
    "test_loss /= len(test_dataloader.dataset)\n",
    "print(\"Test Loss: {:.4f}\".format(test_loss))\n",
    "print(\"Test Accuracy: {:.2f}%\".format(100 * correct / total))\n"
   ]
  },
  {
   "cell_type": "code",
   "execution_count": null,
   "metadata": {},
   "outputs": [],
   "source": []
  }
 ],
 "metadata": {
  "kernelspec": {
   "display_name": "torchgeo",
   "language": "python",
   "name": "python3"
  },
  "language_info": {
   "codemirror_mode": {
    "name": "ipython",
    "version": 3
   },
   "file_extension": ".py",
   "mimetype": "text/x-python",
   "name": "python",
   "nbconvert_exporter": "python",
   "pygments_lexer": "ipython3",
   "version": "3.9.0"
  },
  "orig_nbformat": 4,
  "vscode": {
   "interpreter": {
    "hash": "7f255346e1a93d72a837f80421b3cabc4fbc94636e4056adf99239953fe1f8a9"
   }
  }
 },
 "nbformat": 4,
 "nbformat_minor": 2
}
